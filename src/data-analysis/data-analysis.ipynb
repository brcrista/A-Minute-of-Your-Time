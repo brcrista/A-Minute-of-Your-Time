{
 "cells": [
  {
   "cell_type": "markdown",
   "metadata": {},
   "source": [
    "# A Minute of Your Time: Data Analysis"
   ]
  },
  {
   "cell_type": "code",
   "execution_count": null,
   "metadata": {},
   "outputs": [],
   "source": [
    "import datetime\n",
    "import itertools\n",
    "\n",
    "import matplotlib.pyplot as plt\n",
    "import numpy as np\n",
    "import pandas as pd\n",
    "\n",
    "from scripts import azure_repos, time_helpers"
   ]
  },
  {
   "cell_type": "markdown",
   "metadata": {},
   "source": [
    "## Load the data"
   ]
  },
  {
   "cell_type": "code",
   "execution_count": null,
   "metadata": {},
   "outputs": [],
   "source": [
    "# Set this to the location of your data file\n",
    "data_file_location = '../../data/mock-data.json'"
   ]
  },
  {
   "cell_type": "code",
   "execution_count": null,
   "metadata": {},
   "outputs": [],
   "source": [
    "pull_requests = azure_repos.load_data(data_file_location)"
   ]
  },
  {
   "cell_type": "code",
   "execution_count": null,
   "metadata": {},
   "outputs": [],
   "source": [
    "pull_requests.head()"
   ]
  },
  {
   "cell_type": "code",
   "execution_count": null,
   "metadata": {},
   "outputs": [],
   "source": [
    "pull_requests.dtypes"
   ]
  },
  {
   "cell_type": "markdown",
   "metadata": {},
   "source": [
    "## Exploratory data analysis"
   ]
  },
  {
   "cell_type": "markdown",
   "metadata": {},
   "source": [
    "### What's in the data?"
   ]
  },
  {
   "cell_type": "code",
   "execution_count": null,
   "metadata": {},
   "outputs": [],
   "source": [
    "# What range of data do we have?\n",
    "first_merge = pull_requests['merged_time'].min()\n",
    "last_merge = pull_requests['merged_time'].max()\n",
    "print(f\"Data goes from {first_merge.date()} to {last_merge.date()}.\")"
   ]
  },
  {
   "cell_type": "code",
   "execution_count": null,
   "metadata": {},
   "outputs": [],
   "source": [
    "# Is any data missing?\n",
    "pull_requests.isna().any()"
   ]
  },
  {
   "cell_type": "code",
   "execution_count": null,
   "metadata": {},
   "outputs": [],
   "source": [
    "# Breakdown by author\n",
    "pull_requests.groupby('author')['ttl'].describe().head()"
   ]
  },
  {
   "cell_type": "code",
   "execution_count": null,
   "metadata": {},
   "outputs": [],
   "source": [
    "# Who completed the most PRs?\n",
    "ttl_by_author = pull_requests.groupby('author')['ttl']\n",
    "ttl_by_author.size().nlargest(5)"
   ]
  },
  {
   "cell_type": "markdown",
   "metadata": {},
   "source": [
    "### How is the data distributed?"
   ]
  },
  {
   "cell_type": "code",
   "execution_count": null,
   "metadata": {},
   "outputs": [],
   "source": [
    "# Breakdown of all PR completion times\n",
    "pull_requests['ttl'].describe(percentiles=[.25, .5, .75, .95])"
   ]
  },
  {
   "cell_type": "code",
   "execution_count": null,
   "metadata": {},
   "outputs": [],
   "source": [
    "# Breakdown of PRs completed in under an hour\n",
    "pull_requests['ttl'][lambda x: x < datetime.timedelta(hours=1)].describe()"
   ]
  },
  {
   "cell_type": "code",
   "execution_count": null,
   "metadata": {},
   "outputs": [],
   "source": [
    "# Breakdown of PRs completed in over 5 days\n",
    "pull_requests['ttl'][lambda x: x > datetime.timedelta(days=5)].describe()"
   ]
  },
  {
   "cell_type": "code",
   "execution_count": null,
   "metadata": {},
   "outputs": [],
   "source": [
    "# Histogram of completion time\n",
    "plt.figure()\n",
    "\n",
    "pull_requests['ttl'].apply(time_helpers.timedelta_to_hours).plot.hist(bins=100)\n",
    "\n",
    "plt.xlabel('Time to complete PR (hours)')\n",
    "plt.xlim([0, 10 * 24])\n",
    "\n",
    "ticks = np.arange(0, 10 * 24, step=24)\n",
    "labels = [\n",
    "    f\"{i // 24} day{'s' if i // 24 != 1 else ''}\"\n",
    "    for i in ticks\n",
    "]\n",
    "plt.xticks(ticks, labels, rotation=90)\n",
    "\n",
    "plt.show()"
   ]
  },
  {
   "cell_type": "code",
   "execution_count": null,
   "metadata": {},
   "outputs": [],
   "source": [
    "# Histogram buckets of 1 hour, up through 5 days\n",
    "plt.figure()\n",
    "\n",
    "days = 5\n",
    "intervals = pd.interval_range(\n",
    "    start=datetime.timedelta(0),\n",
    "    end=datetime.timedelta(days=days) + datetime.timedelta(hours=1),\n",
    "    freq=datetime.timedelta(hours=1))\n",
    "ttl_under_days = pull_requests['ttl'][lambda x: x < datetime.timedelta(days=days)]\n",
    "ttl_under_days_bins = pd.cut(ttl_under_days, bins=intervals)\n",
    "ttl_under_days_hist = ttl_under_days_bins.value_counts(sort=False)\n",
    "ttl_under_days_hist.plot.bar(width=1)\n",
    "\n",
    "plt.xlabel('Time to complete PR')\n",
    "ticks = np.arange(0, 5 * 24, step=8)\n",
    "labels = [\n",
    "    f\"{i // 24} day{'s' if i // 24 != 1 else ''}\"\n",
    "    if i % 24 == 0\n",
    "    else f\"{i} hours\"\n",
    "    for i in ticks\n",
    "]\n",
    "plt.xticks(ticks, labels)\n",
    "\n",
    "plt.ylabel('# PRs completed')\n",
    "\n",
    "plt.title('Distribution of PR completion times')\n",
    "\n",
    "plt.show()"
   ]
  },
  {
   "cell_type": "code",
   "execution_count": null,
   "metadata": {},
   "outputs": [],
   "source": [
    "# What's the mode?\n",
    "ttl_under_days_bins.mode()[0]"
   ]
  },
  {
   "cell_type": "code",
   "execution_count": null,
   "metadata": {},
   "outputs": [],
   "source": [
    "# What's this distribution look like?\n",
    "plt.figure()\n",
    "\n",
    "amplitude = 0.5\n",
    "frequency = 0.4\n",
    "angular_frequency = 2 * np.pi * frequency\n",
    "phase_angle = np.pi / 2\n",
    "decay_constant = 0.5\n",
    "\n",
    "xs = np.arange(0.01, 11, 0.01)\n",
    "ys = (np.e ** (-decay_constant * xs)) * (1 + amplitude * np.sin(angular_frequency * xs + phase_angle))\n",
    "\n",
    "plt.plot(xs, ys)\n",
    "plt.plot(xs, np.zeros(xs.size), '_k')\n",
    "plt.xlim([0, 10])\n",
    "plt.ylim([-2, 2])\n",
    "\n",
    "plt.title('Oscillating decay')\n",
    "\n",
    "plt.show()"
   ]
  },
  {
   "cell_type": "code",
   "execution_count": null,
   "metadata": {},
   "outputs": [],
   "source": [
    "# We can use the distribution to assign crude probabilities to completion time\n",
    "intervals = pd.interval_range(\n",
    "    start=datetime.timedelta(0),\n",
    "    end=pull_requests['ttl'].max() + datetime.timedelta(hours=1),\n",
    "    freq=datetime.timedelta(hours=1))\n",
    "\n",
    "intervals_to_num_completed = pd.DataFrame(\n",
    "    pd.cut(pull_requests['ttl'], bins=intervals).value_counts(sort=False)\n",
    ")\n",
    "\n",
    "intervals_to_num_completed['cumulative'] = intervals_to_num_completed['ttl'].cumsum()\n",
    "intervals_to_num_completed['cumulative_probability'] = intervals_to_num_completed['cumulative'] / pull_requests['ttl'].size"
   ]
  },
  {
   "cell_type": "code",
   "execution_count": null,
   "metadata": {},
   "outputs": [],
   "source": [
    "plt.figure()\n",
    "\n",
    "max_hours = time_helpers.timedelta_to_hours(pull_requests['ttl'].max())\n",
    "hours = np.arange(0, max_hours, step=1)\n",
    "\n",
    "plt.bar(hours, intervals_to_num_completed['cumulative_probability'], width=1)\n",
    "\n",
    "plt.xlim([0, 5 * 24])\n",
    "plt.xlabel('Time to complete PR')\n",
    "ticks = np.arange(0, 5 * 24, step=8)\n",
    "labels = [\n",
    "    f\"{i // 24} day{'s' if i // 24 != 1 else ''}\"\n",
    "    if i % 24 == 0\n",
    "    else f\"{i} hours\"\n",
    "    for i in ticks\n",
    "]\n",
    "plt.xticks(ticks, labels, rotation=90)\n",
    "\n",
    "plt.ylabel('Probability of completed PR')\n",
    "\n",
    "plt.title('Cumulative distribution of PR completion times')\n",
    "\n",
    "plt.show()"
   ]
  },
  {
   "cell_type": "markdown",
   "metadata": {},
   "source": [
    "### How is the data correlated?"
   ]
  },
  {
   "cell_type": "code",
   "execution_count": null,
   "metadata": {},
   "outputs": [],
   "source": [
    "# Plot completion time vs. number of reviewers\n",
    "plt.figure()\n",
    "\n",
    "xs = pull_requests['num_reviewers']\n",
    "ys = pull_requests['ttl'].apply(time_helpers.timedelta_to_hours)\n",
    "\n",
    "plt.plot(xs, ys, 'bo')\n",
    "\n",
    "plt.xlabel('Number of reviewers')\n",
    "\n",
    "ticks = np.arange(0, 10 * 24, step=24)\n",
    "labels = [\n",
    "    f\"{i // 24} day{'s' if i // 24 != 1 else ''}\"\n",
    "    for i in ticks\n",
    "]\n",
    "plt.yticks(ticks, labels)\n",
    "plt.ylim([0, 10 * 24])\n",
    "plt.ylabel('Time to complete PR')\n",
    "\n",
    "plt.show()"
   ]
  },
  {
   "cell_type": "code",
   "execution_count": null,
   "metadata": {},
   "outputs": [],
   "source": [
    "# Plot completion time vs. number of iterations\n",
    "plt.figure()\n",
    "\n",
    "xs = pull_requests['num_iterations']\n",
    "ys = pull_requests['ttl'].apply(time_helpers.timedelta_to_hours)\n",
    "\n",
    "plt.plot(xs, ys, 'ro')\n",
    "\n",
    "plt.xlabel('Number of iterations')\n",
    "\n",
    "ticks = np.arange(0, 10 * 24, step=24)\n",
    "labels = [\n",
    "    f\"{i // 24} day{'s' if i // 24 != 1 else ''}\"\n",
    "    for i in ticks\n",
    "]\n",
    "plt.yticks(ticks, labels)\n",
    "plt.ylim([0, 10 * 24])\n",
    "plt.ylabel('Time to complete PR')\n",
    "\n",
    "plt.show()"
   ]
  },
  {
   "cell_type": "code",
   "execution_count": null,
   "metadata": {},
   "outputs": [],
   "source": []
  }
 ],
 "metadata": {
  "kernelspec": {
   "display_name": "Python 3",
   "language": "python",
   "name": "python3"
  },
  "language_info": {
   "codemirror_mode": {
    "name": "ipython",
    "version": 3
   },
   "file_extension": ".py",
   "mimetype": "text/x-python",
   "name": "python",
   "nbconvert_exporter": "python",
   "pygments_lexer": "ipython3",
   "version": "3.7.3"
  }
 },
 "nbformat": 4,
 "nbformat_minor": 4
}

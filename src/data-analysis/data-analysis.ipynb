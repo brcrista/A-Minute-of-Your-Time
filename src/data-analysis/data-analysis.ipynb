{
 "cells": [
  {
   "cell_type": "markdown",
   "metadata": {},
   "source": [
    "# A Minute of Your Time\n",
    "## Data analysis"
   ]
  },
  {
   "cell_type": "code",
   "execution_count": null,
   "metadata": {},
   "outputs": [],
   "source": [
    "import dateutil\n",
    "import json\n",
    "\n",
    "import pandas as pd\n",
    "\n",
    "from scripts import text_helpers"
   ]
  },
  {
   "cell_type": "code",
   "execution_count": null,
   "metadata": {},
   "outputs": [],
   "source": [
    "# Set this to the location of your data file\n",
    "data_file_location = '../../data/mock-data.json'"
   ]
  },
  {
   "cell_type": "code",
   "execution_count": null,
   "metadata": {},
   "outputs": [],
   "source": [
    "# Load the data\n",
    "def ensure_camel(s):\n",
    "    \"\"\"\n",
    "    Convert a string to camel case.\n",
    "    Some of the JSON properties in the response from the Azure DevOps API are not camel-cased.\n",
    "    \"\"\"\n",
    "    allowed_names = ['_links']\n",
    "    return s if text_helpers.iscamel(s) or s in allowed_names else text_helpers.camel(s)\n",
    "\n",
    "with open(data_file_location, 'r', encoding='utf-8') as pull_requests_json_file:\n",
    "    pull_requests_raw = json.load(pull_requests_json_file, object_hook=lambda d: text_helpers.remap_keys(ensure_camel, d))"
   ]
  },
  {
   "cell_type": "code",
   "execution_count": null,
   "metadata": {},
   "outputs": [],
   "source": [
    "def get_data_from_pull_request(pull_request):\n",
    "    \"\"\"\n",
    "    Extract the information we want to process from a pull request API object.\n",
    "    \"\"\"\n",
    "    return [\n",
    "        pull_request['pullRequestId'],\n",
    "        pull_request['createdBy']['displayName'],\n",
    "        dateutil.parser.parse(pull_request['creationDate']),\n",
    "        dateutil.parser.parse(pull_request['closedDate']),\n",
    "        len(pull_request['reviewers'])\n",
    "    ]"
   ]
  },
  {
   "cell_type": "code",
   "execution_count": null,
   "metadata": {},
   "outputs": [],
   "source": [
    "# Create a data frame of pull requests\n",
    "pull_requests = pd.DataFrame(\n",
    "    [get_data_from_pull_request(pr) for pr in pull_requests_raw],\n",
    "    columns=['id', 'author', 'created_time', 'merged_time', 'num_reviewers'])"
   ]
  },
  {
   "cell_type": "code",
   "execution_count": null,
   "metadata": {},
   "outputs": [],
   "source": [
    "# Add a column for wall-clock time to complete\n",
    "pull_requests['ttl'] = pull_requests['merged_time'] - pull_requests['created_time']\n",
    "pull_requests['ttl']"
   ]
  },
  {
   "cell_type": "code",
   "execution_count": null,
   "metadata": {},
   "outputs": [],
   "source": [
    "pull_requests.head()"
   ]
  },
  {
   "cell_type": "code",
   "execution_count": null,
   "metadata": {},
   "outputs": [],
   "source": [
    "pull_requests.dtypes"
   ]
  },
  {
   "cell_type": "code",
   "execution_count": null,
   "metadata": {},
   "outputs": [],
   "source": []
  }
 ],
 "metadata": {
  "kernelspec": {
   "display_name": "Python 3",
   "language": "python",
   "name": "python3"
  },
  "language_info": {
   "codemirror_mode": {
    "name": "ipython",
    "version": 3
   },
   "file_extension": ".py",
   "mimetype": "text/x-python",
   "name": "python",
   "nbconvert_exporter": "python",
   "pygments_lexer": "ipython3",
   "version": "3.7.3"
  }
 },
 "nbformat": 4,
 "nbformat_minor": 4
}

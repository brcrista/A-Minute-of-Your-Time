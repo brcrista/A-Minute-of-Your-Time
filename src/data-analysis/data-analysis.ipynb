{
 "cells": [
  {
   "cell_type": "markdown",
   "metadata": {},
   "source": [
    "# A Minute of Your Time: Data Analysis"
   ]
  },
  {
   "cell_type": "code",
   "execution_count": null,
   "metadata": {},
   "outputs": [],
   "source": [
    "import datetime\n",
    "\n",
    "import matplotlib.pyplot as plt\n",
    "import pandas as pd\n",
    "\n",
    "from scripts import azure_repos"
   ]
  },
  {
   "cell_type": "markdown",
   "metadata": {},
   "source": [
    "## Load the data"
   ]
  },
  {
   "cell_type": "code",
   "execution_count": null,
   "metadata": {},
   "outputs": [],
   "source": [
    "# Set this to the location of your data file\n",
    "data_file_location = '../../data/pull-requests.json'"
   ]
  },
  {
   "cell_type": "code",
   "execution_count": null,
   "metadata": {},
   "outputs": [],
   "source": [
    "pull_requests = azure_repos.load_data(data_file_location)"
   ]
  },
  {
   "cell_type": "code",
   "execution_count": null,
   "metadata": {},
   "outputs": [],
   "source": [
    "pull_requests.head()"
   ]
  },
  {
   "cell_type": "code",
   "execution_count": null,
   "metadata": {},
   "outputs": [],
   "source": [
    "pull_requests.dtypes"
   ]
  },
  {
   "cell_type": "markdown",
   "metadata": {},
   "source": [
    "## Exploratory data analysis"
   ]
  },
  {
   "cell_type": "code",
   "execution_count": null,
   "metadata": {},
   "outputs": [],
   "source": [
    "# What range of data do we have?\n",
    "first_merge = pull_requests['merged_time'].min()\n",
    "last_merge = pull_requests['merged_time'].max()\n",
    "print(f\"Data goes from {first_merge.date()} to {last_merge.date()}.\")"
   ]
  },
  {
   "cell_type": "code",
   "execution_count": null,
   "metadata": {},
   "outputs": [],
   "source": [
    "# Breakdown by author\n",
    "pull_requests.groupby('author')['ttl'].describe()"
   ]
  },
  {
   "cell_type": "code",
   "execution_count": null,
   "metadata": {},
   "outputs": [],
   "source": [
    "# Who completed the most PRs?\n",
    "ttl_by_author = pull_requests.groupby('author')['ttl']\n",
    "ttl_by_author.size().nlargest(5)"
   ]
  },
  {
   "cell_type": "code",
   "execution_count": null,
   "metadata": {},
   "outputs": [],
   "source": [
    "# Check out the CIX team ...\n",
    "cix_team = ['Brian Cristante', 'Chris Sidi🦉', 'David Staheli', 'Hank Weber', 'Jason Prickett', 'Josh Gross', 'Kellie Jos 🐉', 'Leah Antkiewicz', 'Lucas Killgore', 'Madhuri Gummalla', 'PJ Quirk', 'Yang Cao (VSNC)']\n",
    "cix_pull_requests = pull_requests.join(pd.DataFrame({'author': cix_team}).set_index('author'), on='author', how='inner')\n",
    "cix_pull_requests.groupby('author')['ttl'].describe()"
   ]
  },
  {
   "cell_type": "code",
   "execution_count": null,
   "metadata": {},
   "outputs": [],
   "source": [
    "# Breakdown of all PR completion times\n",
    "pull_requests['ttl'].describe()"
   ]
  },
  {
   "cell_type": "code",
   "execution_count": null,
   "metadata": {},
   "outputs": [],
   "source": [
    "# Breakdown of PRs completed in under an hour\n",
    "pull_requests['ttl'][lambda x: x < datetime.timedelta(hours=1)].describe()"
   ]
  },
  {
   "cell_type": "code",
   "execution_count": null,
   "metadata": {},
   "outputs": [],
   "source": [
    "# Breakdown of PRs completed in over 5 days\n",
    "pull_requests['ttl'][lambda x: x > datetime.timedelta(days=5)].describe()"
   ]
  },
  {
   "cell_type": "code",
   "execution_count": null,
   "metadata": {},
   "outputs": [],
   "source": [
    "# Histogram of completion time\n",
    "plt.figure()\n",
    "pull_requests['ttl'].apply(lambda x: x.total_seconds()).plot.hist(bins=100)\n",
    "\n",
    "plt.xlabel('Time to complete PR (seconds)')\n",
    "plt.xlim([0, datetime.timedelta(days=10).total_seconds()])\n",
    "plt.show()"
   ]
  },
  {
   "cell_type": "code",
   "execution_count": null,
   "metadata": {},
   "outputs": [],
   "source": []
  }
 ],
 "metadata": {
  "kernelspec": {
   "display_name": "Python 3",
   "language": "python",
   "name": "python3"
  },
  "language_info": {
   "codemirror_mode": {
    "name": "ipython",
    "version": 3
   },
   "file_extension": ".py",
   "mimetype": "text/x-python",
   "name": "python",
   "nbconvert_exporter": "python",
   "pygments_lexer": "ipython3",
   "version": "3.7.3"
  }
 },
 "nbformat": 4,
 "nbformat_minor": 4
}
